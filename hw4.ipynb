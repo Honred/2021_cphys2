{
 "cells": [
  {
   "cell_type": "code",
   "execution_count": 1,
   "id": "ffcae41b",
   "metadata": {},
   "outputs": [],
   "source": [
    "import numpy as np\n",
    "import matplotlib.pyplot as plt"
   ]
  },
  {
   "cell_type": "markdown",
   "id": "146250a5",
   "metadata": {},
   "source": [
    "# OR\n",
    "단층 perceptron을 이용하여 다음의 데이터를 분류하여라."
   ]
  },
  {
   "cell_type": "code",
   "execution_count": 2,
   "id": "1e471d92",
   "metadata": {},
   "outputs": [],
   "source": [
    "X = [[0,0],[1,0],[0,1],[1,1]]\n",
    "y = [0,1,1,1]"
   ]
  },
  {
   "cell_type": "code",
   "execution_count": 3,
   "id": "0921f8f0",
   "metadata": {},
   "outputs": [],
   "source": [
    "def perc(x):\n",
    "    f=np.dot(w,x)+b\n",
    "    if f>=0:\n",
    "        y=1\n",
    "    else:\n",
    "        y=0\n",
    "    return y"
   ]
  },
  {
   "cell_type": "code",
   "execution_count": 4,
   "id": "bd6fa8ac",
   "metadata": {},
   "outputs": [],
   "source": [
    "w, b=[0, 0], 0\n",
    "eta = 0.1"
   ]
  },
  {
   "cell_type": "code",
   "execution_count": 5,
   "id": "642947a2",
   "metadata": {
    "scrolled": true
   },
   "outputs": [
    {
     "data": {
      "text/plain": [
       "([0.1, 0.1], -0.1)"
      ]
     },
     "execution_count": 5,
     "metadata": {},
     "output_type": "execute_result"
    }
   ],
   "source": [
    "for n in range(100):\n",
    "    for i in range(4):\n",
    "        error = y[i]- perc(X[i])       \n",
    "        w[0] = w[0] + eta * error * X[i][0]\n",
    "        w[1] = w[1] + eta * error * X[i][1]\n",
    "        b = b + eta * error\n",
    "w,b"
   ]
  },
  {
   "cell_type": "code",
   "execution_count": 6,
   "id": "1771a20e",
   "metadata": {},
   "outputs": [
    {
     "data": {
      "text/plain": [
       "(0, 1, 1, 1)"
      ]
     },
     "execution_count": 6,
     "metadata": {},
     "output_type": "execute_result"
    }
   ],
   "source": [
    "perc(X[0]),perc(X[1]),perc(X[2]),perc(X[3])"
   ]
  },
  {
   "cell_type": "markdown",
   "id": "e095042f",
   "metadata": {},
   "source": [
    "# Iris classifications\n",
    "단층 perceptron을 이용하여 다음의 데이터를 분류하여라."
   ]
  },
  {
   "cell_type": "code",
   "execution_count": 32,
   "id": "49e770c8",
   "metadata": {
    "scrolled": true
   },
   "outputs": [
    {
     "data": {
      "text/plain": [
       "['sepal length (cm)',\n",
       " 'sepal width (cm)',\n",
       " 'petal length (cm)',\n",
       " 'petal width (cm)']"
      ]
     },
     "execution_count": 32,
     "metadata": {},
     "output_type": "execute_result"
    }
   ],
   "source": [
    "from sklearn import datasets\n",
    "iris = datasets.load_iris() # 분꽃\n",
    "iris.target_names # 3종류의 분꽃 분류하기\n",
    "iris.feature_names # features"
   ]
  },
  {
   "cell_type": "code",
   "execution_count": 33,
   "id": "b0018b6e",
   "metadata": {},
   "outputs": [],
   "source": [
    "X=iris.data # input data # the number of input nodes = 4"
   ]
  },
  {
   "cell_type": "code",
   "execution_count": 34,
   "id": "892c3723",
   "metadata": {
    "scrolled": true
   },
   "outputs": [
    {
     "data": {
      "text/plain": [
       "array(['setosa', 'versicolor', 'virginica'], dtype='<U10')"
      ]
     },
     "execution_count": 34,
     "metadata": {},
     "output_type": "execute_result"
    }
   ],
   "source": [
    "iris.target_names # setosa = 0, not setosa = 1"
   ]
  },
  {
   "cell_type": "code",
   "execution_count": 35,
   "id": "289e2d31",
   "metadata": {},
   "outputs": [],
   "source": [
    "y=np.where(iris.target>0,1,0) # 0(setosa) 과 1(setosa 외) 로 분류"
   ]
  },
  {
   "cell_type": "code",
   "execution_count": 36,
   "id": "17fc3966",
   "metadata": {},
   "outputs": [],
   "source": [
    "def perc(x):\n",
    "    f=np.dot(w,x)+b\n",
    "    if f>=0:\n",
    "        y=1\n",
    "    else:\n",
    "        y=0\n",
    "    return y"
   ]
  },
  {
   "cell_type": "code",
   "execution_count": 46,
   "id": "dcd1f6c1",
   "metadata": {},
   "outputs": [],
   "source": [
    "w, b=[1, -2, 3, -4], 5\n",
    "eta = 0.01"
   ]
  },
  {
   "cell_type": "code",
   "execution_count": 47,
   "id": "508d869b",
   "metadata": {
    "scrolled": true
   },
   "outputs": [
    {
     "data": {
      "text/plain": [
       "150"
      ]
     },
     "execution_count": 47,
     "metadata": {},
     "output_type": "execute_result"
    }
   ],
   "source": [
    "len(y)"
   ]
  },
  {
   "cell_type": "code",
   "execution_count": 48,
   "id": "fbe3333f",
   "metadata": {},
   "outputs": [
    {
     "data": {
      "text/plain": [
       "([-0.19600000000000017, -2.798, 2.865000000000003, -3.9249999999999994],\n",
       " 4.720000000000006)"
      ]
     },
     "execution_count": 48,
     "metadata": {},
     "output_type": "execute_result"
    }
   ],
   "source": [
    "for n in range(100):\n",
    "    for i in range(len(y)):\n",
    "        error = y[i]- perc(X[i])       \n",
    "        w[0] = w[0] + eta * error * X[i][0]\n",
    "        w[1] = w[1] + eta * error * X[i][1]\n",
    "        w[2] = w[2] + eta * error * X[i][2]\n",
    "        w[3] = w[3] + eta * error * X[i][3]\n",
    "        b = b + eta * error\n",
    "w,b"
   ]
  }
 ],
 "metadata": {
  "kernelspec": {
   "display_name": "Python 3",
   "language": "python",
   "name": "python3"
  },
  "language_info": {
   "codemirror_mode": {
    "name": "ipython",
    "version": 3
   },
   "file_extension": ".py",
   "mimetype": "text/x-python",
   "name": "python",
   "nbconvert_exporter": "python",
   "pygments_lexer": "ipython3",
   "version": "3.6.13"
  }
 },
 "nbformat": 4,
 "nbformat_minor": 5
}
