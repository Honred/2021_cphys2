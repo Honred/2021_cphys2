{
 "cells": [
  {
   "cell_type": "markdown",
   "id": "e63ac946",
   "metadata": {},
   "source": [
    "#  MNIST\n",
    "\n",
    "* 2개의 히든 레이어를 도입한다.\n",
    "* input layer는 28*28개의 노드\n",
    "* hidden layer의 노드의 수는 자유롭게 설정해도 좋다.\n",
    "* output은 10개(0~9)로 설정한다."
   ]
  },
  {
   "cell_type": "markdown",
   "id": "f3ad33b0",
   "metadata": {},
   "source": [
    "#### test data를 예측하여 정확도를 최대가 되도록 학습하여라.\n",
    "* 제출 시 test data의 정확도를 출력하여 제출하세요."
   ]
  },
  {
   "cell_type": "code",
   "execution_count": 1,
   "id": "c2bb0c14",
   "metadata": {},
   "outputs": [],
   "source": [
    "import numpy as np\n",
    "import matplotlib.pyplot as plt\n",
    "import torch\n",
    "import torchvision"
   ]
  },
  {
   "cell_type": "code",
   "execution_count": 2,
   "id": "f81bcde9",
   "metadata": {},
   "outputs": [],
   "source": [
    "train_data = torchvision.datasets.MNIST(\n",
    "    root = 'data',\n",
    "    train = True,                         \n",
    "    transform = torchvision.transforms.ToTensor(), \n",
    "    download = True,            \n",
    ")\n",
    "test_data = torchvision.datasets.MNIST(\n",
    "    root = 'data', \n",
    "    train = False, \n",
    "    transform = torchvision.transforms.ToTensor()\n",
    ")"
   ]
  },
  {
   "cell_type": "code",
   "execution_count": 3,
   "id": "d4965aba",
   "metadata": {},
   "outputs": [],
   "source": [
    "loader = torch.utils.data.DataLoader(\n",
    "    dataset = train_data,\n",
    "    batch_size = 100\n",
    ")"
   ]
  },
  {
   "cell_type": "code",
   "execution_count": 4,
   "id": "9d32e17b",
   "metadata": {},
   "outputs": [
    {
     "data": {
      "text/plain": [
       "Dataset MNIST\n",
       "    Number of datapoints: 60000\n",
       "    Root location: data\n",
       "    Split: Train\n",
       "    StandardTransform\n",
       "Transform: ToTensor()"
      ]
     },
     "execution_count": 4,
     "metadata": {},
     "output_type": "execute_result"
    }
   ],
   "source": [
    "train_data"
   ]
  },
  {
   "cell_type": "code",
   "execution_count": 5,
   "id": "84d9039f",
   "metadata": {},
   "outputs": [
    {
     "data": {
      "text/plain": [
       "Dataset MNIST\n",
       "    Number of datapoints: 10000\n",
       "    Root location: data\n",
       "    Split: Test\n",
       "    StandardTransform\n",
       "Transform: ToTensor()"
      ]
     },
     "execution_count": 5,
     "metadata": {},
     "output_type": "execute_result"
    }
   ],
   "source": [
    "test_data"
   ]
  },
  {
   "cell_type": "code",
   "execution_count": 6,
   "id": "d373b91a",
   "metadata": {},
   "outputs": [
    {
     "data": {
      "text/plain": [
       "torch.Size([60000, 28, 28])"
      ]
     },
     "execution_count": 6,
     "metadata": {},
     "output_type": "execute_result"
    }
   ],
   "source": [
    "train_data.data.size()"
   ]
  },
  {
   "cell_type": "code",
   "execution_count": 7,
   "id": "0a392fdb",
   "metadata": {},
   "outputs": [
    {
     "data": {
      "text/plain": [
       "<matplotlib.image.AxesImage at 0x1b7dfb82b20>"
      ]
     },
     "execution_count": 7,
     "metadata": {},
     "output_type": "execute_result"
    },
    {
     "data": {
      "image/png": "[encoded data removed]",
      "text/plain": [
       "<Figure size 432x288 with 1 Axes>"
      ]
     },
     "metadata": {
      "needs_background": "light"
     },
     "output_type": "display_data"
    }
   ],
   "source": [
    "import matplotlib.pyplot as plt\n",
    "\n",
    "plt.imshow(train_data.data[0], cmap='gray')"
   ]
  },
  {
   "cell_type": "code",
   "execution_count": 8,
   "id": "1d8f7b95",
   "metadata": {},
   "outputs": [],
   "source": [
    "# Flatten input data\n",
    "X=torch.flatten(train_data.data,start_dim=1).float()\n",
    "y=train_data.targets\n",
    "X_test=torch.flatten(test_data.data,start_dim=1).float()\n",
    "y_test=test_data.targets\n",
    "X=X/255 # 데이터를 0~1로 정규화\n",
    "X_test=X_test/255"
   ]
  },
  {
   "cell_type": "code",
   "execution_count": 9,
   "id": "385c7244",
   "metadata": {},
   "outputs": [],
   "source": [
    "din, dh1, dh2, dout = 28*28, 482, 241, 10\n",
    "model = torch.nn.Sequential(\n",
    "    torch.nn.Linear(din,dh1), # input - hidden1\n",
    "    torch.nn.ReLU(),         # activation function of hidden layer \n",
    "    torch.nn.Linear(dh1,dh2), # hidden1 - hidden2\n",
    "    torch.nn.ReLU(),         # activation function of hidden layer \n",
    "    torch.nn.Linear(dh2,dout), # hidden2 - out\n",
    "    torch.nn.Softmax(dim=1)\n",
    ")\n",
    "\n",
    "# loss and optimizer\n",
    "learning_rate = 0.001\n",
    "criterion = torch.nn.CrossEntropyLoss()\n",
    "optimizer = torch.optim.Adam(model.parameters(),lr=learning_rate)"
   ]
  },
  {
   "cell_type": "code",
   "execution_count": 10,
   "id": "84c4e66d",
   "metadata": {},
   "outputs": [],
   "source": [
    "# learning\n",
    "nums_epoch = 200\n",
    "def train(model, criterion, optimizer, nums_epoch, X, y, X_test, y_test):\n",
    "    for epoch in range(nums_epoch):\n",
    "        y_pred = model(X)\n",
    "        loss = criterion(y_pred,y)\n",
    "        optimizer.zero_grad() # zero_grad(): 미분값 초기화\n",
    "        loss.backward() # backpropagation\n",
    "        optimizer.step() # update weights and biases\n",
    "        \n",
    "        if(epoch%10==0):\n",
    "            prediction = y_pred.max(1)[1] # max indices\n",
    "            corrects = (prediction == y)\n",
    "            accuracy_train = corrects.sum().float() / float( y.size(0) )\n",
    "            print(epoch, \"loss_train=\", loss.item(), \"accu_train=\", accuracy_train.item())\n",
    "\n",
    "            y_test_pred = model(X_test) # train data를 기반으로 한 model을 test data를 통해 검증\n",
    "            test_prediction = y_test_pred.max(1)[1] # max indices\n",
    "            test_corrects = (test_prediction == y_test)\n",
    "            accuracy_test = test_corrects.sum().float() / float( y_test.size(0) )\n",
    "            print(epoch, \"loss_test=\", loss.item(), \"accu_test=\", accuracy_test.item())"
   ]
  },
  {
   "cell_type": "code",
   "execution_count": 11,
   "id": "bfc49f5b",
   "metadata": {
    "scrolled": false
   },
   "outputs": [
    {
     "name": "stdout",
     "output_type": "stream",
     "text": [
      "0 loss_train= 2.303154706954956 accu_train= 0.09011666476726532\n",
      "0 loss_test= 2.303154706954956 accu_test= 0.2770000100135803\n",
      "10 loss_train= 2.0395114421844482 accu_train= 0.539566695690155\n",
      "10 loss_test= 2.0395114421844482 accu_test= 0.5698999762535095\n",
      "20 loss_train= 1.7643256187438965 accu_train= 0.7256166934967041\n",
      "20 loss_test= 1.7643256187438965 accu_test= 0.7305999994277954\n",
      "30 loss_train= 1.6449323892593384 accu_train= 0.8566499948501587\n",
      "30 loss_test= 1.6449323892593384 accu_test= 0.8546000123023987\n",
      "40 loss_train= 1.5949480533599854 accu_train= 0.8887166380882263\n",
      "40 loss_test= 1.5949480533599854 accu_test= 0.8920999765396118\n",
      "50 loss_train= 1.5712960958480835 accu_train= 0.9041666388511658\n",
      "50 loss_test= 1.5712960958480835 accu_test= 0.9060999751091003\n",
      "60 loss_train= 1.5587258338928223 accu_train= 0.9139999747276306\n",
      "60 loss_test= 1.5587258338928223 accu_test= 0.9132999777793884\n",
      "70 loss_train= 1.550182819366455 accu_train= 0.9202666878700256\n",
      "70 loss_test= 1.550182819366455 accu_test= 0.9194999933242798\n",
      "80 loss_train= 1.5437804460525513 accu_train= 0.9261000156402588\n",
      "80 loss_test= 1.5437804460525513 accu_test= 0.9247000217437744\n",
      "90 loss_train= 1.538625955581665 accu_train= 0.9309166669845581\n",
      "90 loss_test= 1.538625955581665 accu_test= 0.9276000261306763\n",
      "100 loss_train= 1.5342342853546143 accu_train= 0.9348833560943604\n",
      "100 loss_test= 1.5342342853546143 accu_test= 0.9315999746322632\n",
      "110 loss_train= 1.5303817987442017 accu_train= 0.9381666779518127\n",
      "110 loss_test= 1.5303817987442017 accu_test= 0.9340999722480774\n",
      "120 loss_train= 1.5268689393997192 accu_train= 0.9409666657447815\n",
      "120 loss_test= 1.5268689393997192 accu_test= 0.9362000226974487\n",
      "130 loss_train= 1.5236233472824097 accu_train= 0.9439499974250793\n",
      "130 loss_test= 1.5236233472824097 accu_test= 0.9388999938964844\n",
      "140 loss_train= 1.5205081701278687 accu_train= 0.9469833374023438\n",
      "140 loss_test= 1.5205081701278687 accu_test= 0.9416000247001648\n",
      "150 loss_train= 1.517471432685852 accu_train= 0.9496166706085205\n",
      "150 loss_test= 1.517471432685852 accu_test= 0.9435999989509583\n",
      "160 loss_train= 1.5145351886749268 accu_train= 0.9527333378791809\n",
      "160 loss_test= 1.5145351886749268 accu_test= 0.9458000063896179\n",
      "170 loss_train= 1.5117950439453125 accu_train= 0.9556000232696533\n",
      "170 loss_test= 1.5117950439453125 accu_test= 0.9467999935150146\n",
      "180 loss_train= 1.5092395544052124 accu_train= 0.9577500224113464\n",
      "180 loss_test= 1.5092395544052124 accu_test= 0.9485999941825867\n",
      "190 loss_train= 1.5069059133529663 accu_train= 0.9596333503723145\n",
      "190 loss_test= 1.5069059133529663 accu_test= 0.9498999714851379\n"
     ]
    }
   ],
   "source": [
    "train(model,criterion, optimizer, nums_epoch, X, y, X_test, y_test);"
   ]
  }
 ],
 "metadata": {
  "kernelspec": {
   "display_name": "Python 3",
   "language": "python",
   "name": "python3"
  },
  "language_info": {
   "codemirror_mode": {
    "name": "ipython",
    "version": 3
   },
   "file_extension": ".py",
   "mimetype": "text/x-python",
   "name": "python",
   "nbconvert_exporter": "python",
   "pygments_lexer": "ipython3",
   "version": "3.8.8"
  }
 },
 "nbformat": 4,
 "nbformat_minor": 5
}
