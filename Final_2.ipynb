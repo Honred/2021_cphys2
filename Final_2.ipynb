{
 "cells": [
  {
   "cell_type": "markdown",
   "id": "bff8c713",
   "metadata": {},
   "source": [
    "# 2. Image classification with CNN\n",
    "* cnn을 이용하여 다음 이미지를 분류하여라.\n",
    "* 인풋 데이터는 rgb 정보를 가지고 있다.\n",
    "* 코드, 결과, 보고서를 함께 제출하여야 한다."
   ]
  },
  {
   "cell_type": "code",
   "execution_count": 1,
   "id": "e3437243",
   "metadata": {},
   "outputs": [],
   "source": [
    "import torch\n",
    "import torch.nn as nn\n",
    "import torch.optim as optim\n",
    "import torch.nn.functional as F\n",
    "from torchvision import transforms, datasets, models"
   ]
  },
  {
   "cell_type": "code",
   "execution_count": 2,
   "id": "5955cc57",
   "metadata": {},
   "outputs": [],
   "source": [
    "EPOCHS = 200 # 반복 횟수\n",
    "BATCH_SIZE = 64 # 배치 크기"
   ]
  },
  {
   "cell_type": "code",
   "execution_count": 3,
   "id": "69ffd956",
   "metadata": {},
   "outputs": [
    {
     "name": "stdout",
     "output_type": "stream",
     "text": [
      "Files already downloaded and verified\n",
      "Files already downloaded and verified\n"
     ]
    }
   ],
   "source": [
    "#pytorch를 통한 데이터 로드\n",
    "train_loader = torch.utils.data.DataLoader(\n",
    "datasets.CIFAR10('./.data', \n",
    "                 train = True,\n",
    "                 download = True,\n",
    "                 transform = transforms.Compose([\n",
    "                   transforms.RandomCrop(32, padding = 4), # 과적합 방지를 위해 이미지를 랜덤으로 아무데나 잘라 32 크기로 출력\n",
    "                   transforms.RandomHorizontalFlip(), # 과적합 방지를 위해 이미지를 랜덤으로 좌우반전\n",
    "                   transforms.ToTensor(),\n",
    "                   transforms.Normalize((0.5, 0.5, 0.5), # loss계산을 위한 데이터 정규화\n",
    "                                        (0.5, 0.5, 0.5))])),\n",
    "    batch_size = BATCH_SIZE, shuffle = True)\n",
    "\n",
    "test_loader = torch.utils.data.DataLoader(\n",
    "datasets.CIFAR10('./.data', \n",
    "                 train = False,\n",
    "                 download = True,\n",
    "                 transform = transforms.Compose([\n",
    "                   transforms.ToTensor(),\n",
    "                   transforms.Normalize((0.5, 0.5, 0.5), # loss계산을 위한 데이터 정규화\n",
    "                                        (0.5, 0.5, 0.5))])),\n",
    "    batch_size = BATCH_SIZE, shuffle = True)"
   ]
  },
  {
   "cell_type": "code",
   "execution_count": 4,
   "id": "f27d5424",
   "metadata": {},
   "outputs": [
    {
     "data": {
      "text/plain": [
       "<torch.utils.data.dataloader.DataLoader at 0x1d6447d0130>"
      ]
     },
     "execution_count": 4,
     "metadata": {},
     "output_type": "execute_result"
    }
   ],
   "source": [
    "train_loader"
   ]
  },
  {
   "cell_type": "code",
   "execution_count": 5,
   "id": "960453c6",
   "metadata": {},
   "outputs": [
    {
     "data": {
      "text/plain": [
       "<torch.utils.data.dataloader.DataLoader at 0x1d64c14bc40>"
      ]
     },
     "execution_count": 5,
     "metadata": {},
     "output_type": "execute_result"
    }
   ],
   "source": [
    "test_loader"
   ]
  },
  {
   "cell_type": "code",
   "execution_count": 6,
   "id": "fe35c071",
   "metadata": {},
   "outputs": [],
   "source": [
    "class Net(nn.Module):\n",
    "    def __init__(self):\n",
    "        super(Net, self).__init__()\n",
    "        self.conv1 = nn.Conv2d(3, 16, kernel_size = 4) # 첫 번째 Convolution Layer\n",
    "        self.conv2 = nn.Conv2d(16, 64, kernel_size = 4) # 두 번째 Convolution Layer\n",
    "        self.pool = nn.MaxPool2d(2, 2) # Pooling Layer\n",
    "        self.conv_drop = nn.Dropout2d() # 과적합 방지를 위한 Dropout Layer\n",
    "        self.fc1 = nn.Linear(1600, 800) # 첫 번째 Fully Connected Layer\n",
    "        self.fc2 = nn.Linear(800, 400) # 두 번째 Fully Connected Layer\n",
    "        self.fc3 = nn.Linear(400, 10) # 세 번째 Fully Connected Layer\n",
    "        \n",
    "    def forward(self, x):\n",
    "        x = self.pool(F.relu(self.conv1(x))) # Convolution1 → ReLU 적용 → Pooling\n",
    "        x = self.pool(F.relu(self.conv_drop(self.conv2(x)))) # Convolution2 → Dropout → ReLU 적용 → Pooling\n",
    "        x = x.view(x.size(0), -1) # view 함수를 이용하여 텐서 x를 1차원으로 변경\n",
    "        x = F.relu(self.fc1(x)) # Fully Connected1 → Relu 적용\n",
    "        x = F.dropout(x, training = self.training) # 과적합 방지를 위한 Dropout Layer\n",
    "        x = F.relu(self.fc2(x)) # Fully Connected2 → ReLU 적용\n",
    "        x = self.fc3(x) # Fully Connected3\n",
    "        return x"
   ]
  },
  {
   "cell_type": "code",
   "execution_count": 7,
   "id": "26d27d57",
   "metadata": {},
   "outputs": [
    {
     "data": {
      "text/plain": [
       "Net(\n",
       "  (conv1): Conv2d(3, 16, kernel_size=(4, 4), stride=(1, 1))\n",
       "  (conv2): Conv2d(16, 64, kernel_size=(4, 4), stride=(1, 1))\n",
       "  (pool): MaxPool2d(kernel_size=2, stride=2, padding=0, dilation=1, ceil_mode=False)\n",
       "  (conv_drop): Dropout2d(p=0.5, inplace=False)\n",
       "  (fc1): Linear(in_features=1600, out_features=800, bias=True)\n",
       "  (fc2): Linear(in_features=800, out_features=400, bias=True)\n",
       "  (fc3): Linear(in_features=400, out_features=10, bias=True)\n",
       ")"
      ]
     },
     "execution_count": 7,
     "metadata": {},
     "output_type": "execute_result"
    }
   ],
   "source": [
    "model = Net() # model을 Net으로 정의\n",
    "optimizer = optim.SGD(model.parameters(), lr = 0.01) # optimizer를 SGD를 활용하고 Learning Rate = 0.01\n",
    "\n",
    "model # model 확인"
   ]
  },
  {
   "cell_type": "code",
   "execution_count": 8,
   "id": "f5382d51",
   "metadata": {},
   "outputs": [],
   "source": [
    "# training\n",
    "def train(model, train_loader, optimizer, epoch):\n",
    "    model.train() # model을 train하도록 설정\n",
    "    for batch_idx, (data, target) in enumerate(train_loader): # train_loader의 배치를 가져와 데이터와 타겟을 설정\n",
    "        optimizer.zero_grad() # 미분값을 0으로 설정\n",
    "        output = model(data) # model에 data를 넣고 결과값을 output으로 정의\n",
    "        loss = F.cross_entropy(output, target) # output과 target을 cross_entropy를 적용하여 loss계산\n",
    "        loss.backward() # 오차역전파\n",
    "        optimizer.step() # optimizer의 step 함수를 호출하여 매개변수 갱신"
   ]
  },
  {
   "cell_type": "code",
   "execution_count": 9,
   "id": "d0eb2cd0",
   "metadata": {},
   "outputs": [],
   "source": [
    "# evaluate\n",
    "def evaluate(model, test_loader):\n",
    "    model.eval() # model의 training을 방지 ex) Drop Out을 turn off\n",
    "    test_loss = 0 # test loss를 0으로 설정\n",
    "    correct = 0 # correct를 0으로 설정\n",
    "    with torch.no_grad(): # evaluate에서 미분값을 더이상 자동으로 트래킹하지 않음\n",
    "        for data, target in test_loader: # test_loader의 배치를 가져와 데이터와 타겟을 설정\n",
    "            output = model(data) # model에 data를 넣고 결과값을 output으로 정의\n",
    "            \n",
    "            test_loss += F.cross_entropy(output, target,\n",
    "                                        reduction = 'sum').item() # loss를 cross_entropy를 통하여 계산\n",
    "            \n",
    "            pred = output.max(1, keepdim = True)[1]\n",
    "            correct += pred.eq(target.view_as(pred)).sum().item() # accuracy계산을 위해 data, target의 정답률 계산\n",
    "            \n",
    "        test_loss /= len(test_loader.dataset) # epoch의 loss를 계산\n",
    "        test_accuracy = 100. * correct / len(test_loader.dataset) # epoch의 accuracy를 계산\n",
    "        return test_loss, test_accuracy # test_loss, test_accuracy 출력"
   ]
  },
  {
   "cell_type": "code",
   "execution_count": 10,
   "id": "947190ea",
   "metadata": {
    "scrolled": false
   },
   "outputs": [
    {
     "name": "stdout",
     "output_type": "stream",
     "text": [
      "[1] Test Loss : 2.2478, Accuracy: 18.69%\n",
      "[2] Test Loss : 2.0076, Accuracy: 26.82%\n",
      "[3] Test Loss : 1.8910, Accuracy: 30.37%\n",
      "[4] Test Loss : 1.7412, Accuracy: 35.91%\n",
      "[5] Test Loss : 1.6331, Accuracy: 40.12%\n",
      "[6] Test Loss : 1.5760, Accuracy: 42.43%\n",
      "[7] Test Loss : 1.5318, Accuracy: 43.53%\n",
      "[8] Test Loss : 1.4892, Accuracy: 46.07%\n",
      "[9] Test Loss : 1.4694, Accuracy: 46.92%\n",
      "[10] Test Loss : 1.4450, Accuracy: 46.73%\n",
      "[11] Test Loss : 1.4154, Accuracy: 49.26%\n",
      "[12] Test Loss : 1.3848, Accuracy: 50.04%\n",
      "[13] Test Loss : 1.3629, Accuracy: 50.12%\n",
      "[14] Test Loss : 1.3354, Accuracy: 52.70%\n",
      "[15] Test Loss : 1.3165, Accuracy: 53.06%\n",
      "[16] Test Loss : 1.3042, Accuracy: 53.50%\n",
      "[17] Test Loss : 1.2866, Accuracy: 54.78%\n",
      "[18] Test Loss : 1.2724, Accuracy: 55.63%\n",
      "[19] Test Loss : 1.2638, Accuracy: 54.74%\n",
      "[20] Test Loss : 1.2218, Accuracy: 56.99%\n",
      "[21] Test Loss : 1.2059, Accuracy: 57.27%\n",
      "[22] Test Loss : 1.2102, Accuracy: 57.88%\n",
      "[23] Test Loss : 1.1856, Accuracy: 58.64%\n",
      "[24] Test Loss : 1.1673, Accuracy: 59.26%\n",
      "[25] Test Loss : 1.1610, Accuracy: 60.47%\n",
      "[26] Test Loss : 1.1401, Accuracy: 60.63%\n",
      "[27] Test Loss : 1.1183, Accuracy: 61.01%\n",
      "[28] Test Loss : 1.1086, Accuracy: 61.68%\n",
      "[29] Test Loss : 1.1145, Accuracy: 61.31%\n",
      "[30] Test Loss : 1.0850, Accuracy: 62.31%\n",
      "[31] Test Loss : 1.1089, Accuracy: 61.32%\n",
      "[32] Test Loss : 1.0692, Accuracy: 63.42%\n",
      "[33] Test Loss : 1.0521, Accuracy: 64.14%\n",
      "[34] Test Loss : 1.0748, Accuracy: 63.00%\n",
      "[35] Test Loss : 1.0620, Accuracy: 63.49%\n",
      "[36] Test Loss : 1.0519, Accuracy: 64.09%\n",
      "[37] Test Loss : 1.0480, Accuracy: 64.13%\n",
      "[38] Test Loss : 1.0179, Accuracy: 65.04%\n",
      "[39] Test Loss : 1.0032, Accuracy: 66.29%\n",
      "[40] Test Loss : 1.0531, Accuracy: 64.05%\n",
      "[41] Test Loss : 0.9976, Accuracy: 65.85%\n",
      "[42] Test Loss : 1.0092, Accuracy: 65.25%\n",
      "[43] Test Loss : 0.9956, Accuracy: 66.41%\n",
      "[44] Test Loss : 0.9775, Accuracy: 66.96%\n",
      "[45] Test Loss : 0.9783, Accuracy: 66.98%\n",
      "[46] Test Loss : 0.9639, Accuracy: 67.60%\n",
      "[47] Test Loss : 0.9703, Accuracy: 67.26%\n",
      "[48] Test Loss : 0.9572, Accuracy: 67.79%\n",
      "[49] Test Loss : 0.9569, Accuracy: 67.44%\n",
      "[50] Test Loss : 0.9720, Accuracy: 67.24%\n",
      "[51] Test Loss : 0.9421, Accuracy: 67.89%\n",
      "[52] Test Loss : 0.9567, Accuracy: 67.67%\n",
      "[53] Test Loss : 0.9431, Accuracy: 68.22%\n",
      "[54] Test Loss : 0.9451, Accuracy: 68.22%\n",
      "[55] Test Loss : 0.9284, Accuracy: 68.52%\n",
      "[56] Test Loss : 0.9207, Accuracy: 68.85%\n",
      "[57] Test Loss : 0.9440, Accuracy: 68.17%\n",
      "[58] Test Loss : 0.9340, Accuracy: 68.31%\n",
      "[59] Test Loss : 0.9221, Accuracy: 69.15%\n",
      "[60] Test Loss : 0.9180, Accuracy: 68.52%\n",
      "[61] Test Loss : 0.9275, Accuracy: 69.00%\n",
      "[62] Test Loss : 0.9217, Accuracy: 69.14%\n",
      "[63] Test Loss : 0.8879, Accuracy: 70.76%\n",
      "[64] Test Loss : 0.8791, Accuracy: 70.50%\n",
      "[65] Test Loss : 0.9127, Accuracy: 69.00%\n",
      "[66] Test Loss : 0.9012, Accuracy: 69.46%\n",
      "[67] Test Loss : 0.9399, Accuracy: 68.39%\n",
      "[68] Test Loss : 0.9204, Accuracy: 69.19%\n",
      "[69] Test Loss : 0.8675, Accuracy: 71.14%\n",
      "[70] Test Loss : 0.8733, Accuracy: 71.05%\n",
      "[71] Test Loss : 0.8610, Accuracy: 71.38%\n",
      "[72] Test Loss : 0.8476, Accuracy: 71.85%\n",
      "[73] Test Loss : 0.8566, Accuracy: 71.70%\n",
      "[74] Test Loss : 0.9030, Accuracy: 69.58%\n",
      "[75] Test Loss : 0.8518, Accuracy: 71.66%\n",
      "[76] Test Loss : 0.8486, Accuracy: 71.70%\n",
      "[77] Test Loss : 0.8470, Accuracy: 72.33%\n",
      "[78] Test Loss : 0.8927, Accuracy: 70.23%\n",
      "[79] Test Loss : 0.8459, Accuracy: 72.04%\n",
      "[80] Test Loss : 0.8384, Accuracy: 72.20%\n",
      "[81] Test Loss : 0.8306, Accuracy: 72.38%\n",
      "[82] Test Loss : 0.8307, Accuracy: 72.58%\n",
      "[83] Test Loss : 0.8236, Accuracy: 72.60%\n",
      "[84] Test Loss : 0.8409, Accuracy: 72.48%\n",
      "[85] Test Loss : 0.8282, Accuracy: 72.76%\n",
      "[86] Test Loss : 0.8327, Accuracy: 72.60%\n",
      "[87] Test Loss : 0.8324, Accuracy: 72.66%\n",
      "[88] Test Loss : 0.8159, Accuracy: 72.49%\n",
      "[89] Test Loss : 0.8455, Accuracy: 71.94%\n",
      "[90] Test Loss : 0.8137, Accuracy: 73.18%\n",
      "[91] Test Loss : 0.8474, Accuracy: 72.23%\n",
      "[92] Test Loss : 0.8608, Accuracy: 71.27%\n",
      "[93] Test Loss : 0.8283, Accuracy: 73.06%\n",
      "[94] Test Loss : 0.8170, Accuracy: 72.82%\n",
      "[95] Test Loss : 0.8021, Accuracy: 73.66%\n",
      "[96] Test Loss : 0.7951, Accuracy: 74.08%\n",
      "[97] Test Loss : 0.8001, Accuracy: 73.35%\n",
      "[98] Test Loss : 0.7888, Accuracy: 74.08%\n",
      "[99] Test Loss : 0.7881, Accuracy: 74.14%\n",
      "[100] Test Loss : 0.7984, Accuracy: 74.13%\n",
      "[101] Test Loss : 0.8014, Accuracy: 73.41%\n",
      "[102] Test Loss : 0.7839, Accuracy: 74.51%\n",
      "[103] Test Loss : 0.8042, Accuracy: 73.14%\n",
      "[104] Test Loss : 0.7966, Accuracy: 74.03%\n",
      "[105] Test Loss : 0.7750, Accuracy: 74.98%\n",
      "[106] Test Loss : 0.7900, Accuracy: 74.49%\n",
      "[107] Test Loss : 0.7872, Accuracy: 74.18%\n",
      "[108] Test Loss : 0.7811, Accuracy: 74.72%\n",
      "[109] Test Loss : 0.7748, Accuracy: 74.74%\n",
      "[110] Test Loss : 0.7770, Accuracy: 75.05%\n",
      "[111] Test Loss : 0.7736, Accuracy: 74.63%\n",
      "[112] Test Loss : 0.7690, Accuracy: 75.04%\n",
      "[113] Test Loss : 0.7979, Accuracy: 73.32%\n",
      "[114] Test Loss : 0.7643, Accuracy: 74.92%\n",
      "[115] Test Loss : 0.7700, Accuracy: 75.08%\n",
      "[116] Test Loss : 0.8051, Accuracy: 73.70%\n",
      "[117] Test Loss : 0.7960, Accuracy: 73.64%\n",
      "[118] Test Loss : 0.7579, Accuracy: 75.23%\n",
      "[119] Test Loss : 0.7574, Accuracy: 75.51%\n",
      "[120] Test Loss : 0.7481, Accuracy: 75.48%\n",
      "[121] Test Loss : 0.7541, Accuracy: 75.41%\n",
      "[122] Test Loss : 0.8090, Accuracy: 72.51%\n",
      "[123] Test Loss : 0.7445, Accuracy: 75.69%\n",
      "[124] Test Loss : 0.7542, Accuracy: 75.31%\n",
      "[125] Test Loss : 0.7447, Accuracy: 75.94%\n",
      "[126] Test Loss : 0.7464, Accuracy: 75.63%\n",
      "[127] Test Loss : 0.7353, Accuracy: 76.39%\n",
      "[128] Test Loss : 0.7368, Accuracy: 75.77%\n",
      "[129] Test Loss : 0.7347, Accuracy: 76.20%\n",
      "[130] Test Loss : 0.7519, Accuracy: 75.63%\n",
      "[131] Test Loss : 0.7367, Accuracy: 75.97%\n",
      "[132] Test Loss : 0.7501, Accuracy: 75.52%\n",
      "[133] Test Loss : 0.7430, Accuracy: 75.84%\n",
      "[134] Test Loss : 0.7380, Accuracy: 76.13%\n",
      "[135] Test Loss : 0.7411, Accuracy: 75.76%\n",
      "[136] Test Loss : 0.7375, Accuracy: 75.68%\n",
      "[137] Test Loss : 0.7279, Accuracy: 76.24%\n",
      "[138] Test Loss : 0.7260, Accuracy: 76.31%\n",
      "[139] Test Loss : 0.7373, Accuracy: 75.85%\n",
      "[140] Test Loss : 0.7477, Accuracy: 75.75%\n",
      "[141] Test Loss : 0.7193, Accuracy: 76.57%\n",
      "[142] Test Loss : 0.7364, Accuracy: 76.24%\n",
      "[143] Test Loss : 0.7145, Accuracy: 77.01%\n",
      "[144] Test Loss : 0.7182, Accuracy: 76.46%\n",
      "[145] Test Loss : 0.7230, Accuracy: 76.55%\n",
      "[146] Test Loss : 0.7260, Accuracy: 76.40%\n",
      "[147] Test Loss : 0.7152, Accuracy: 76.68%\n",
      "[148] Test Loss : 0.7118, Accuracy: 77.11%\n",
      "[149] Test Loss : 0.6989, Accuracy: 77.26%\n",
      "[150] Test Loss : 0.7298, Accuracy: 76.72%\n",
      "[151] Test Loss : 0.7105, Accuracy: 76.80%\n",
      "[152] Test Loss : 0.7238, Accuracy: 76.72%\n",
      "[153] Test Loss : 0.7047, Accuracy: 76.58%\n",
      "[154] Test Loss : 0.7113, Accuracy: 76.84%\n",
      "[155] Test Loss : 0.7044, Accuracy: 77.24%\n",
      "[156] Test Loss : 0.7099, Accuracy: 76.74%\n",
      "[157] Test Loss : 0.6985, Accuracy: 77.31%\n",
      "[158] Test Loss : 0.6941, Accuracy: 77.70%\n",
      "[159] Test Loss : 0.7274, Accuracy: 76.91%\n",
      "[160] Test Loss : 0.6970, Accuracy: 77.33%\n",
      "[161] Test Loss : 0.6992, Accuracy: 76.95%\n",
      "[162] Test Loss : 0.7173, Accuracy: 76.85%\n",
      "[163] Test Loss : 0.6921, Accuracy: 77.74%\n",
      "[164] Test Loss : 0.6935, Accuracy: 77.37%\n",
      "[165] Test Loss : 0.7094, Accuracy: 77.27%\n",
      "[166] Test Loss : 0.7011, Accuracy: 76.66%\n",
      "[167] Test Loss : 0.6879, Accuracy: 77.73%\n",
      "[168] Test Loss : 0.6881, Accuracy: 77.44%\n",
      "[169] Test Loss : 0.6952, Accuracy: 77.16%\n",
      "[170] Test Loss : 0.6835, Accuracy: 77.68%\n",
      "[171] Test Loss : 0.6857, Accuracy: 77.83%\n",
      "[172] Test Loss : 0.6876, Accuracy: 77.97%\n",
      "[173] Test Loss : 0.6825, Accuracy: 77.98%\n",
      "[174] Test Loss : 0.6712, Accuracy: 77.99%\n",
      "[175] Test Loss : 0.6842, Accuracy: 77.97%\n",
      "[176] Test Loss : 0.6832, Accuracy: 77.49%\n",
      "[177] Test Loss : 0.7204, Accuracy: 76.16%\n",
      "[178] Test Loss : 0.6865, Accuracy: 77.64%\n",
      "[179] Test Loss : 0.6898, Accuracy: 77.60%\n",
      "[180] Test Loss : 0.6929, Accuracy: 77.89%\n",
      "[181] Test Loss : 0.6811, Accuracy: 77.34%\n",
      "[182] Test Loss : 0.6769, Accuracy: 77.89%\n",
      "[183] Test Loss : 0.6959, Accuracy: 77.14%\n",
      "[184] Test Loss : 0.6845, Accuracy: 77.77%\n",
      "[185] Test Loss : 0.6976, Accuracy: 77.35%\n",
      "[186] Test Loss : 0.6875, Accuracy: 77.36%\n",
      "[187] Test Loss : 0.6734, Accuracy: 77.94%\n",
      "[188] Test Loss : 0.6702, Accuracy: 78.15%\n",
      "[189] Test Loss : 0.6809, Accuracy: 77.61%\n",
      "[190] Test Loss : 0.6718, Accuracy: 77.86%\n",
      "[191] Test Loss : 0.6681, Accuracy: 77.90%\n",
      "[192] Test Loss : 0.7060, Accuracy: 77.39%\n",
      "[193] Test Loss : 0.7159, Accuracy: 77.19%\n",
      "[194] Test Loss : 0.6892, Accuracy: 77.56%\n",
      "[195] Test Loss : 0.6758, Accuracy: 77.73%\n",
      "[196] Test Loss : 0.6610, Accuracy: 78.27%\n",
      "[197] Test Loss : 0.6632, Accuracy: 78.16%\n",
      "[198] Test Loss : 0.6640, Accuracy: 78.35%\n",
      "[199] Test Loss : 0.6683, Accuracy: 77.99%\n",
      "[200] Test Loss : 0.6897, Accuracy: 77.44%\n"
     ]
    }
   ],
   "source": [
    "epochs = []\n",
    "Test_loss = []      # 데이터 분석을 위한 epochs, Test_loss, Test_accuracy 레이어 생성\n",
    "Test_accuracy = []\n",
    "\n",
    "for epoch in range(1, EPOCHS + 1):\n",
    "    \n",
    "    train(model, train_loader, optimizer, epoch) # model을 통한 학습\n",
    "    test_loss, test_accuracy = evaluate(model, test_loader) # model 검증\n",
    "    \n",
    "    print('[{}] Test Loss : {:.4f}, Accuracy: {:.2f}%'.format(\n",
    "    epoch, test_loss, test_accuracy)) # epoch, test_loss, test_accuracy를 각 epoch마다 출력\n",
    "    \n",
    "    epochs.append(epoch)\n",
    "    Test_loss.append(test_loss)          # 데이터 분석을 위한 epochs, Test_loss, Test_accuracy 레이어에 값 입력\n",
    "    Test_accuracy.append(test_accuracy)"
   ]
  },
  {
   "cell_type": "code",
   "execution_count": 20,
   "id": "65fcc5ae",
   "metadata": {
    "scrolled": false
   },
   "outputs": [
    {
     "data": {
      "image/png": "[encoded data removed]",
      "text/plain": [
       "<Figure size 800x600 with 2 Axes>"
      ]
     },
     "metadata": {},
     "output_type": "display_data"
    }
   ],
   "source": [
    "# 그래프를 통한 loss, accuracy 개요\n",
    "import matplotlib.pyplot as plt\n",
    "\n",
    "plt.style.use('default') # 그래프 스타일 default로 설정\n",
    "plt.rcParams['figure.figsize'] = (8, 6) # 그래프 사이즈 (8, 6)으로 설정\n",
    "\n",
    "x = epochs\n",
    "y1 = Test_loss      # x, y1, y2 설정\n",
    "y2 = Test_accuracy\n",
    "\n",
    "fig, ax1 = plt.subplots() # 하나의 그래프로 표현하기 위해 subplots 이용\n",
    "ax1.set_xlabel('epochs') # x 설정\n",
    "ax1.set_ylabel('Test_loss') # y1 설정\n",
    "line1 = ax1.plot(x, y1, color='green', label='Test_loss') # y1의 색 설정\n",
    "\n",
    "ax2 = ax1.twinx() # 하나의 그래프로 표현하기 위해 twinx 이용\n",
    "ax2.set_ylabel('Test_accuracy') # y2 설정\n",
    "line2 = ax2.plot(x, y2, color='red', label='Test_accuracy') # y2의 색 설정\n",
    "\n",
    "lines = line1 + line2 # 두 선을 합침\n",
    "labels = [l.get_label() for l in lines] # 범주를 묶어서 표시\n",
    "ax1.legend(lines, labels, loc='center right') # 범주의 색, 이름, 위치 설정\n",
    "plt.show()"
   ]
  },
  {
   "cell_type": "markdown",
   "id": "79f2cf9e",
   "metadata": {},
   "source": [
    "CIFAR-10 데이터는 RGB값을 갖고 있기 때문에 세 개의 채널로 나누어진다. 따라서 데이터를 불러오는 과정에 있어서 각 채널에 평균 0.5 표준편차 0.5를 적용하여 -1 ~ 1의 값으로 정규화 해주었다. 또한 과적합을 방지하기 위하여 데이터를 불러오는 과정에서 RandomCrop, RandomHorizontalFlip을 이용하여 이미지에 무작위 적인 가공을 해주었다. 학습을 위하여 CNN을 2개의 Convolution Layer, 2개의 Pooling Layer, 과적합 방지를 위한 Dropout Layer, 3개의 Fully Connected Layer를 설정하여 주었으며 이를 1차원으로 바꿔 주기 위하여 veiw를 이용하였다. 이 때 ReLU를 이용하여 학습을 진행하였다. 이러한 모델을 형성하여 Convolution1 → ReLU 적용 → Pooling → Convolution2 → Dropout → ReLU 적용 → Pooling → Fully Connected1 → Relu 적용 → view 함수를 이용하여 텐서 x를 1차원으로 변경 → 과적합 방지를 위한 Dropout Layer → Fully Connected2 → ReLU 적용 → Fully Connected3의 순으로 학습을 진행 시켰다. 이러한 학습의 결과를 테스트 데이터에 적용 시켜 loss와 accuracy를 구한 결과 loss 최소 0.6610, accuracy 최대 78.35%의 결과를 볼 수 있었다. 이는 학습용 데이터를 통해 학습한 모델이 테스트 데이터에 적용되었을 때 정확도를 보여주는데 epoch에 따른 결과를 보면 학습이 진행될수록 accuracy, loss의 변화율은 떨어지고 있어 현재 값에서 크게 변하지 않을 것으로 보인다. accuracy를 향상시키기 위해서는 Optimizer SGD를 ADAM으로 교체하고 scheduler를 통하여 Learning rate를 조절하여 Optimizer의 보폭을 조절해주어야 할 것 같다. 또한 CNN에 대하여 공부하던 중 알게 된 ResNet과 같은 CNN을 이용하면 더욱 좋은 결과를 얻을 수 있을 것이라 생각하여 실제 찾아본 결과 ResNet을 이용하였을 때 95.0%의 accuracy를 보였다. 이를 통해서 CNN의 형성이 얼마나 학습에 중요한 요인으로 작용하는지 이번 결과와 비교하며 알 수 있었다."
   ]
  }
 ],
 "metadata": {
  "kernelspec": {
   "display_name": "Python 3",
   "language": "python",
   "name": "python3"
  },
  "language_info": {
   "codemirror_mode": {
    "name": "ipython",
    "version": 3
   },
   "file_extension": ".py",
   "mimetype": "text/x-python",
   "name": "python",
   "nbconvert_exporter": "python",
   "pygments_lexer": "ipython3",
   "version": "3.8.8"
  }
 },
 "nbformat": 4,
 "nbformat_minor": 5
}
